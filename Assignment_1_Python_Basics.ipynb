{
 "cells": [
  {
   "cell_type": "markdown",
   "metadata": {},
   "source": [
    "\n",
    "\n",
    "# Assignment 1 - Python Basics\n",
    "\n",
    "### Due Date: Wednesday, Sep 30th, 2020 @ 11pm\n",
    "\n"
   ]
  },
  {
   "cell_type": "markdown",
   "metadata": {},
   "source": [
    "### A note for this assignment\n",
    "\n",
    "Submit this notebook with your answers included below each question.\n",
    "\n",
    "\n",
    "| Exercise | Point |\n",
    "| --- | --- |\n",
    "| 1 | 10 |\n",
    "| 2 | 10 |\n",
    "| 3 | 10 |\n",
    "| 4 | 10 |\n",
    "| 5 | 10 |\n",
    "| 6 | 10 |\n",
    "| 7 | 10 |\n",
    "| 8 | 10 |\n",
    "| 9 | 10 |\n",
    "|10 | 10 |\n",
    "| **Total** | **100** |\n"
   ]
  },
  {
   "cell_type": "markdown",
   "metadata": {},
   "source": [
    "### Exercise 1\n"
   ]
  },
  {
   "cell_type": "markdown",
   "metadata": {},
   "source": [
    "**Given this nested list, use indexing to grab the word \"python\".**"
   ]
  },
  {
   "cell_type": "code",
   "execution_count": 2,
   "metadata": {},
   "outputs": [],
   "source": [
    "lst = [1,2,[3,4],[5,[100,200,['python']],23,11],1,7]"
   ]
  },
  {
   "cell_type": "code",
   "execution_count": 5,
   "metadata": {},
   "outputs": [
    {
     "data": {
      "text/plain": [
       "'python'"
      ]
     },
     "execution_count": 5,
     "metadata": {},
     "output_type": "execute_result"
    }
   ],
   "source": [
    "lst[3][1][2][0]"
   ]
  },
  {
   "cell_type": "markdown",
   "metadata": {},
   "source": [
    "### Exercise 2"
   ]
  },
  {
   "cell_type": "markdown",
   "metadata": {},
   "source": [
    "**Given this nested dictionary grab the word \"python\".**"
   ]
  },
  {
   "cell_type": "code",
   "execution_count": 6,
   "metadata": {},
   "outputs": [],
   "source": [
    "d = {'k1':[1,2,3,{'tricky':['oh','man','inception',{'target':[1,2,3,'python']}]}]}"
   ]
  },
  {
   "cell_type": "code",
   "execution_count": 7,
   "metadata": {},
   "outputs": [
    {
     "data": {
      "text/plain": [
       "'python'"
      ]
     },
     "execution_count": 7,
     "metadata": {},
     "output_type": "execute_result"
    }
   ],
   "source": [
    "d['k1'][3]['tricky'][3]['target'][3]"
   ]
  },
  {
   "cell_type": "markdown",
   "metadata": {},
   "source": [
    "### Exercise 3"
   ]
  },
  {
   "cell_type": "markdown",
   "metadata": {},
   "source": [
    "**Create a list L with odd length.  Complete the following tasks:**\n",
    "\n",
    "\n",
    " - Find the median element\n",
    " - Slice out all element indexed lower than the median element\n",
    " \n",
    "```\n",
    "An example of a list L:\n",
    "L= [4,5,3,2,6,6,9]\n",
    "```"
   ]
  },
  {
   "cell_type": "code",
   "execution_count": 9,
   "metadata": {},
   "outputs": [
    {
     "name": "stdout",
     "output_type": "stream",
     "text": [
      "L_sorted= [0, 1, 3, 4, 5, 6, 7, 7, 8, 9, 9]\n"
     ]
    }
   ],
   "source": [
    "L= [7,5,3,8,6,0,9,1,4,7,9]\n",
    "L_sorted=sorted(L)\n",
    "print(\"L_sorted=\",L_sorted)"
   ]
  },
  {
   "cell_type": "code",
   "execution_count": 10,
   "metadata": {},
   "outputs": [
    {
     "name": "stdout",
     "output_type": "stream",
     "text": [
      "Median= 6\n"
     ]
    }
   ],
   "source": [
    "N=(len(L)-1)//2\n",
    "Median=L_sorted[int(N)]\n",
    "print(\"Median=\",Median)"
   ]
  },
  {
   "cell_type": "code",
   "execution_count": 11,
   "metadata": {},
   "outputs": [
    {
     "name": "stdout",
     "output_type": "stream",
     "text": [
      "Slice= [0, 1, 3, 4, 5]\n"
     ]
    }
   ],
   "source": [
    "Slice=L_sorted[0:N]\n",
    "print(\"Slice=\",Slice)"
   ]
  },
  {
   "cell_type": "markdown",
   "metadata": {},
   "source": [
    "\n",
    "**a) Swap the following two tuples using one line of python code:**\n",
    "\n",
    "```\n",
    "tuple1 = (10, 23)\n",
    "tuple2 = (97, 33)\n",
    "```\n",
    "\n",
    "**Expected output:**\n",
    "```\n",
    "tuple1 = (97, 33)\n",
    "tuple2 = (10, 23)\n",
    "```\n"
   ]
  },
  {
   "cell_type": "code",
   "execution_count": 12,
   "metadata": {},
   "outputs": [
    {
     "name": "stdout",
     "output_type": "stream",
     "text": [
      "tuple1= (97, 33)\n",
      "tuple2= (10, 23)\n"
     ]
    }
   ],
   "source": [
    "tuple1=(10,23)\n",
    "tuple2=(97,33)\n",
    "tuple1,tuple2=tuple2,tuple1\n",
    "print(\"tuple1=\",tuple1)\n",
    "print(\"tuple2=\",tuple2)"
   ]
  },
  {
   "cell_type": "markdown",
   "metadata": {},
   "source": [
    "**b) Modify the first item (22) of a list inside a following tuple to 222**\n",
    "\n",
    "```\n",
    "tuple1 = (11, [22, 33], 45, 56)\n",
    "```\n",
    "\n",
    "**Expected output:**\n",
    "```\n",
    "tuple1 = (11, [222, 33], 45, 56)\n",
    "```"
   ]
  },
  {
   "cell_type": "code",
   "execution_count": 13,
   "metadata": {},
   "outputs": [
    {
     "name": "stdout",
     "output_type": "stream",
     "text": [
      "tuple1= (11, [222, 33], 45, 56)\n"
     ]
    }
   ],
   "source": [
    "tuple1 = (11, [22, 33], 45, 56)\n",
    "tuple1[1][0]=222\n",
    "print(\"tuple1=\",tuple1)"
   ]
  },
  {
   "cell_type": "markdown",
   "metadata": {},
   "source": [
    "### Exercise 5"
   ]
  },
  {
   "cell_type": "markdown",
   "metadata": {},
   "source": [
    "**Write a code that grabs the email website and prints out the domain:**\n",
    "\n",
    "**Example**    \n",
    "```\n",
    "my_name@domain.com\n",
    "```\n",
    "\n",
    "**Expected output:**\n",
    "```\n",
    "domain.com\n",
    "```\n"
   ]
  },
  {
   "cell_type": "code",
   "execution_count": 16,
   "metadata": {},
   "outputs": [
    {
     "name": "stdout",
     "output_type": "stream",
     "text": [
      "domain.com\n"
     ]
    }
   ],
   "source": [
    "A='my_name@domain.com'\n",
    "B=A.find('@')\n",
    "domain=A[B+1:len(A)]\n",
    "print(domain)"
   ]
  },
  {
   "cell_type": "markdown",
   "metadata": {},
   "source": [
    "### Exercise 6"
   ]
  },
  {
   "cell_type": "markdown",
   "metadata": {},
   "source": [
    "Consider the following python data structures and write one use case for each of them.\n",
    "- string\n",
    "- list\n",
    "- tuple\n",
    "- dictionary\n",
    "- set\n"
   ]
  },
  {
   "cell_type": "code",
   "execution_count": 120,
   "metadata": {},
   "outputs": [],
   "source": [
    "# String is useful anywhere we need to write text, for example in output"
   ]
  },
  {
   "cell_type": "code",
   "execution_count": 121,
   "metadata": {},
   "outputs": [],
   "source": [
    "# List should be used when we have some data and the order of them are important and we may want to change them or\n",
    "# sort them, for example, we have the numerical grades of a class, we need to sort and find median or mean of them\n",
    "# and change the grades to have a definite mean."
   ]
  },
  {
   "cell_type": "code",
   "execution_count": 122,
   "metadata": {},
   "outputs": [],
   "source": [
    "# Tuple should be used when we have some data and the order of them are important but we don't want to change them,\n",
    "# for example, we just want to consider the salary of personnel for 5 years ago but clearly, we don't want to change \n",
    "# any previous data."
   ]
  },
  {
   "cell_type": "code",
   "execution_count": null,
   "metadata": {},
   "outputs": [],
   "source": [
    "# Dictionary is useful when we have some pairs of data which we want to refer them individually and don't need any order, \n",
    "# for example we define a dictionary for personnel of a company with their ID numbers and another dictionary for their\n",
    "# salaries.When we need their ID numbers or salaries we can just write their names.Cleary, the key in dictionary can't \n",
    "# change, in this example means their names, but the value,ID number or salary, can change."
   ]
  },
  {
   "cell_type": "code",
   "execution_count": 17,
   "metadata": {},
   "outputs": [],
   "source": [
    "# Set is useful when there is no need to order data or know the quantity of each item. For example when we have a set of \n",
    "# data for mother tongue of personel and we just need to know which language they can spoken as their native language and \n",
    "# and the quantity of people is not important. "
   ]
  },
  {
   "cell_type": "markdown",
   "metadata": {},
   "source": [
    "### Exercise 7"
   ]
  },
  {
   "cell_type": "markdown",
   "metadata": {},
   "source": [
    "Given the list nums = [5, 6, 7, 8, 9, 10, 11, 12], write the code that would index into the list and return the sublist [9, 10, 11]."
   ]
  },
  {
   "cell_type": "code",
   "execution_count": 89,
   "metadata": {},
   "outputs": [
    {
     "data": {
      "text/plain": [
       "[9, 10, 11]"
      ]
     },
     "execution_count": 89,
     "metadata": {},
     "output_type": "execute_result"
    }
   ],
   "source": [
    "nums=[5,6,7,8,9,10,11,12]\n",
    "nums[4:7]"
   ]
  },
  {
   "cell_type": "markdown",
   "metadata": {},
   "source": [
    "### Exercise 8"
   ]
  },
  {
   "cell_type": "markdown",
   "metadata": {},
   "source": [
    "Using python indexing, change the name **`Jason** to **Oliver** in the below data structure"
   ]
  },
  {
   "cell_type": "code",
   "execution_count": 19,
   "metadata": {},
   "outputs": [],
   "source": [
    "customers = [{'id':'1234','full_name': {'first_name': 'Jason', 'last_name': 'Smith'}},\n",
    "        {'id':'2345','full_name': {'first_name': 'Tom', 'last_name': 'Albert'}},\n",
    "        {'id':'3456','full_name': {'first_name': 'Martin', 'last_name': 'Arts'}}]"
   ]
  },
  {
   "cell_type": "code",
   "execution_count": 20,
   "metadata": {},
   "outputs": [
    {
     "data": {
      "text/plain": [
       "[{'id': '1234', 'full_name': {'first_name': 'Oliver', 'last_name': 'Smith'}},\n",
       " {'id': '2345', 'full_name': {'first_name': 'Tom', 'last_name': 'Albert'}},\n",
       " {'id': '3456', 'full_name': {'first_name': 'Martin', 'last_name': 'Arts'}}]"
      ]
     },
     "execution_count": 20,
     "metadata": {},
     "output_type": "execute_result"
    }
   ],
   "source": [
    "customers[0]['full_name']['first_name']='Oliver'\n",
    "customers"
   ]
  },
  {
   "cell_type": "markdown",
   "metadata": {},
   "source": [
    "### Exercise 9"
   ]
  },
  {
   "cell_type": "markdown",
   "metadata": {},
   "source": [
    "Given the below python list, display the list in the following order:\n",
    "\n",
    "```\n",
    "my_list = [100, 200, 300, 400, 500]\n",
    "```\n",
    "\n",
    "**Expected output:**\n",
    "```\n",
    "my_list = [500, 400, 300, 200, 100]\n",
    "```\n"
   ]
  },
  {
   "cell_type": "code",
   "execution_count": 107,
   "metadata": {},
   "outputs": [
    {
     "name": "stdout",
     "output_type": "stream",
     "text": [
      "my_list= [500, 400, 300, 200, 100]\n"
     ]
    }
   ],
   "source": [
    "my_list = [100, 200, 300, 400, 500]\n",
    "my_list.sort(reverse=True)\n",
    "print('my_list=',my_list)"
   ]
  },
  {
   "cell_type": "markdown",
   "metadata": {},
   "source": [
    "### Exercise 10"
   ]
  },
  {
   "cell_type": "markdown",
   "metadata": {},
   "source": [
    "Create a string variable with your full name in it, with your first and last name (and any middle names) seperated by a space. Split the string into a list, and print out your surname. \n",
    "\n"
   ]
  },
  {
   "cell_type": "code",
   "execution_count": 108,
   "metadata": {},
   "outputs": [
    {
     "name": "stdout",
     "output_type": "stream",
     "text": [
      "surname= Taghipour\n"
     ]
    }
   ],
   "source": [
    "My_name=('Morteza Taghipour')\n",
    "L= My_name.split()\n",
    "print('surname=',L[1])"
   ]
  }
 ],
 "metadata": {
  "anaconda-cloud": {},
  "kernelspec": {
   "display_name": "Python 3 (ipykernel)",
   "language": "python",
   "name": "python3"
  },
  "language_info": {
   "codemirror_mode": {
    "name": "ipython",
    "version": 3
   },
   "file_extension": ".py",
   "mimetype": "text/x-python",
   "name": "python",
   "nbconvert_exporter": "python",
   "pygments_lexer": "ipython3",
   "version": "3.9.7"
  }
 },
 "nbformat": 4,
 "nbformat_minor": 1
}
